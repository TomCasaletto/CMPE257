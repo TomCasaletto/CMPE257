{
 "cells": [
  {
   "cell_type": "code",
   "execution_count": 2,
   "id": "7a8f0616-ad4f-4724-a39a-df62ab70e495",
   "metadata": {},
   "outputs": [],
   "source": [
    "import os\n",
    "import numpy as np\n",
    "import pandas as pd\n",
    "# from PIL import Image\n",
    "from matplotlib import pyplot as plt\n",
    "# import seaborn as sns\n",
    "from astropy.units import imperial\n",
    "from gwpy.timeseries import TimeSeries\n",
    "import tensorflow as tf\n",
    "from tensorflow.keras import layers, models"
   ]
  },
  {
   "cell_type": "markdown",
   "id": "76392b6b-1d59-4272-aaef-b081c6507578",
   "metadata": {},
   "source": [
    "# Load Data"
   ]
  },
  {
   "cell_type": "code",
   "execution_count": 3,
   "id": "db195ffe-46db-49a7-82f6-aa555d0b171d",
   "metadata": {},
   "outputs": [],
   "source": [
    "# Following load code adapted from:\n",
    "#  https://www.kaggle.com/xuzongniubi/g2net-efficientnet-b7-baseline-training\n",
    "\n",
    "train = pd.read_csv('./data/training_labels.csv')\n",
    "test = pd.read_csv('./data/sample_submission.csv')\n",
    "\n",
    "def get_train_file_path(image_id):\n",
    "    return \"./data/train/{}/{}/{}/{}.npy\".format(\n",
    "        image_id[0], image_id[1], image_id[2], image_id)\n",
    "\n",
    "def get_test_file_path(image_id):\n",
    "    return \"./data/test/{}/{}/{}/{}.npy\".format(\n",
    "        image_id[0], image_id[1], image_id[2], image_id)\n",
    "\n",
    "train['file_path'] = train['id'].apply(get_train_file_path)\n",
    "test['file_path'] = test['id'].apply(get_test_file_path)"
   ]
  },
  {
   "cell_type": "code",
   "execution_count": 4,
   "id": "87bb830a-bb21-4a9a-a63f-a424fa3fbe82",
   "metadata": {},
   "outputs": [],
   "source": [
    "def GetData(train, test, num_samples, starting_idx=0):\n",
    "    \n",
    "    data = np.zeros((num_samples, 3, 4096))\n",
    "    for i in range(starting_idx, starting_idx + num_samples):\n",
    "        data[i] = np.load(train.loc[i, 'file_path'])\n",
    "            \n",
    "    return data"
   ]
  },
  {
   "cell_type": "code",
   "execution_count": 5,
   "id": "b95f424e-a9b1-4ceb-9078-6bd1cb08ac7f",
   "metadata": {},
   "outputs": [
    {
     "name": "stdout",
     "output_type": "stream",
     "text": [
      "(10, 3, 4096)\n"
     ]
    }
   ],
   "source": [
    "data = GetData(train, test, 10)\n",
    "print(data.shape)\n"
   ]
  },
  {
   "cell_type": "markdown",
   "id": "216f733a-7e55-4902-9bde-3e8b86b77752",
   "metadata": {},
   "source": [
    "# Make Spectrograms"
   ]
  },
  {
   "cell_type": "code",
   "execution_count": 5,
   "id": "632b3576-5d2d-4916-ab03-8031b9aa8d05",
   "metadata": {},
   "outputs": [],
   "source": [
    "def MakeSpectrograms(data, method='channel'):\n",
    "    qt_channels = np.zeros((data.shape[0], 1000, 940, 3))\n",
    "    \n",
    "    for i in range(len(data)):\n",
    "        tseries0 = TimeSeries(data[i][0], sample_rate=2048)\n",
    "        tseries1 = TimeSeries(data[i][1], sample_rate=2048, t0=2)\n",
    "        tseries2 = TimeSeries(data[i][2], sample_rate=2048, t0=4)\n",
    "\n",
    "        qt0 = tseries0.q_transform(frange=(30, 500), qrange=(100, 110))\n",
    "        qt1 = tseries1.q_transform(frange=(30, 500), qrange=(100, 110))\n",
    "        qt2 = tseries2.q_transform(frange=(30, 500), qrange=(100, 110))\n",
    "\n",
    "        qt_channels[i] = np.stack((qt0.value.tolist(), qt1.value.tolist(), qt2.value.tolist()), axis=-1)\n",
    "\n",
    "#     print(f'Type = {type(qt_channels)}, shape = {qt_channels.shape}')\n",
    "\n",
    "    return qt_channels"
   ]
  },
  {
   "cell_type": "code",
   "execution_count": 6,
   "id": "7a10f5ff-5d14-4331-9f08-7585d481e04b",
   "metadata": {},
   "outputs": [],
   "source": [
    "qt = MakeSpectrograms(data)"
   ]
  },
  {
   "cell_type": "code",
   "execution_count": 7,
   "id": "13fdb7f4-af24-46e6-a965-0f7311fedb30",
   "metadata": {},
   "outputs": [
    {
     "name": "stdout",
     "output_type": "stream",
     "text": [
      "(10, 1000, 940, 3)\n"
     ]
    }
   ],
   "source": [
    "print(qt.shape)"
   ]
  },
  {
   "cell_type": "markdown",
   "id": "5236542b-aa09-4414-a199-4f3d65a3dd66",
   "metadata": {},
   "source": [
    "# Build CNN"
   ]
  },
  {
   "cell_type": "markdown",
   "id": "08e5f164-08cb-4fbd-9504-e7dd0e7eff63",
   "metadata": {},
   "source": [
    "Following tutorial here: https://www.tensorflow.org/tutorials/images/cnn"
   ]
  },
  {
   "cell_type": "code",
   "execution_count": 8,
   "id": "f2b9ed99-249f-4da3-80f8-49bf12ef0e7e",
   "metadata": {},
   "outputs": [
    {
     "name": "stdout",
     "output_type": "stream",
     "text": [
      "Num GPUs Available:  1\n"
     ]
    }
   ],
   "source": [
    "print(\"Num GPUs Available: \", len(tf.config.list_physical_devices('GPU')))"
   ]
  },
  {
   "cell_type": "markdown",
   "id": "3c549113-3d5e-4453-899f-90c89bffacac",
   "metadata": {},
   "source": [
    "### Build Model"
   ]
  },
  {
   "cell_type": "code",
   "execution_count": 9,
   "id": "1611f729-f4e0-4440-8ea7-32f2282e1d13",
   "metadata": {},
   "outputs": [
    {
     "name": "stdout",
     "output_type": "stream",
     "text": [
      "Model: \"sequential\"\n",
      "_________________________________________________________________\n",
      "Layer (type)                 Output Shape              Param #   \n",
      "=================================================================\n",
      "conv2d (Conv2D)              (None, 971, 911, 32)      86432     \n",
      "_________________________________________________________________\n",
      "max_pooling2d (MaxPooling2D) (None, 97, 91, 32)        0         \n",
      "_________________________________________________________________\n",
      "conv2d_1 (Conv2D)            (None, 95, 89, 64)        18496     \n",
      "_________________________________________________________________\n",
      "max_pooling2d_1 (MaxPooling2 (None, 47, 44, 64)        0         \n",
      "_________________________________________________________________\n",
      "conv2d_2 (Conv2D)            (None, 45, 42, 64)        36928     \n",
      "_________________________________________________________________\n",
      "flatten (Flatten)            (None, 120960)            0         \n",
      "_________________________________________________________________\n",
      "dense (Dense)                (None, 64)                7741504   \n",
      "_________________________________________________________________\n",
      "dense_1 (Dense)              (None, 2)                 130       \n",
      "=================================================================\n",
      "Total params: 7,883,490\n",
      "Trainable params: 7,883,490\n",
      "Non-trainable params: 0\n",
      "_________________________________________________________________\n"
     ]
    }
   ],
   "source": [
    "model = models.Sequential()\n",
    "model.add(layers.Conv2D(32, (30, 30), activation='relu', input_shape=(1000, 940, 3)))\n",
    "model.add(layers.MaxPooling2D((10, 10)))\n",
    "model.add(layers.Conv2D(64, (3, 3), activation='relu'))\n",
    "model.add(layers.MaxPooling2D((2, 2)))\n",
    "model.add(layers.Conv2D(64, (3, 3), activation='relu'))\n",
    "model.add(layers.Flatten())\n",
    "model.add(layers.Dense(64, activation='relu'))\n",
    "model.add(layers.Dense(2))\n",
    "model.summary()"
   ]
  },
  {
   "cell_type": "markdown",
   "id": "df90d3aa-4bfb-44e4-ad30-7d397ebf6966",
   "metadata": {},
   "source": [
    "### Compile and Train Model"
   ]
  },
  {
   "cell_type": "code",
   "execution_count": 10,
   "id": "a8ab31b0-4030-4355-afd3-0fdc311a65d0",
   "metadata": {},
   "outputs": [
    {
     "name": "stdout",
     "output_type": "stream",
     "text": [
      "Epoch 1/10\n",
      "1/1 [==============================] - 35s 35s/step - loss: 0.9960 - accuracy: 0.4444 - val_loss: 194.3153 - val_accuracy: 0.0000e+00\n",
      "Epoch 2/10\n",
      "1/1 [==============================] - 1s 852ms/step - loss: 101.1581 - accuracy: 0.4444 - val_loss: 0.0000e+00 - val_accuracy: 1.0000\n",
      "Epoch 3/10\n",
      "1/1 [==============================] - 1s 850ms/step - loss: 2.9568 - accuracy: 0.5556 - val_loss: 153.8586 - val_accuracy: 0.0000e+00\n",
      "Epoch 4/10\n",
      "1/1 [==============================] - 1s 851ms/step - loss: 77.8998 - accuracy: 0.4444 - val_loss: 0.0000e+00 - val_accuracy: 1.0000\n",
      "Epoch 5/10\n",
      "1/1 [==============================] - 1s 850ms/step - loss: 5.0534 - accuracy: 0.5556 - val_loss: 0.0000e+00 - val_accuracy: 1.0000\n",
      "Epoch 6/10\n",
      "1/1 [==============================] - 1s 849ms/step - loss: 1.3246 - accuracy: 0.5556 - val_loss: 2.3435 - val_accuracy: 0.5000\n",
      "Epoch 7/10\n",
      "1/1 [==============================] - 1s 838ms/step - loss: 0.2338 - accuracy: 0.8889 - val_loss: 0.1163 - val_accuracy: 1.0000\n",
      "Epoch 8/10\n",
      "1/1 [==============================] - 1s 835ms/step - loss: 2.8039e-05 - accuracy: 1.0000 - val_loss: 4.0531e-06 - val_accuracy: 1.0000\n",
      "Epoch 9/10\n",
      "1/1 [==============================] - 1s 837ms/step - loss: 2.6491e-08 - accuracy: 1.0000 - val_loss: 0.0000e+00 - val_accuracy: 1.0000\n",
      "Epoch 10/10\n",
      "1/1 [==============================] - 1s 842ms/step - loss: 3.3148e-05 - accuracy: 1.0000 - val_loss: 0.0000e+00 - val_accuracy: 1.0000\n"
     ]
    }
   ],
   "source": [
    "model.compile(optimizer='adam',\n",
    "              loss=tf.keras.losses.SparseCategoricalCrossentropy(from_logits=True),\n",
    "              metrics=['accuracy'])\n",
    "\n",
    "history = model.fit(qt[:9], train.loc[:8, 'target'], epochs=10, \n",
    "                    validation_data=(qt[8:], train.loc[8:9, 'target']))"
   ]
  },
  {
   "cell_type": "markdown",
   "id": "df97b27c-be18-4087-8c25-2060410baf92",
   "metadata": {},
   "source": [
    "### Evaluate Model"
   ]
  },
  {
   "cell_type": "code",
   "execution_count": 12,
   "id": "c4931271-b6ea-487f-b5ac-1887030817eb",
   "metadata": {},
   "outputs": [
    {
     "name": "stdout",
     "output_type": "stream",
     "text": [
      "1/1 - 0s - loss: 0.0000e+00 - accuracy: 1.0000\n",
      "1.0\n"
     ]
    },
    {
     "data": {
      "image/png": "[encoded data removed]",
      "text/plain": [
       "<Figure size 432x288 with 1 Axes>"
      ]
     },
     "metadata": {
      "needs_background": "light"
     },
     "output_type": "display_data"
    }
   ],
   "source": [
    "plt.plot(history.history['accuracy'], label='accuracy')\n",
    "plt.plot(history.history['val_accuracy'], label = 'val_accuracy')\n",
    "plt.xlabel('Epoch')\n",
    "plt.ylabel('Accuracy')\n",
    "plt.ylim([0.5, 1])\n",
    "plt.legend(loc='lower right')\n",
    "\n",
    "test_loss, test_acc = model.evaluate(qt[8:],  train.loc[8:9, 'target'], verbose=2)\n",
    "\n",
    "print(test_acc)"
   ]
  },
  {
   "cell_type": "code",
   "execution_count": 7,
   "id": "f13b3919-2073-43cf-be11-a4af7db09ade",
   "metadata": {},
   "outputs": [
    {
     "data": {
      "text/plain": [
       "<bound method NDFrame.head of                 id  target                          file_path\n",
       "0       00000e74ad       1  ./data/train/0/0/0/00000e74ad.npy\n",
       "1       00001f4945       0  ./data/train/0/0/0/00001f4945.npy\n",
       "2       0000661522       0  ./data/train/0/0/0/0000661522.npy\n",
       "3       00007a006a       0  ./data/train/0/0/0/00007a006a.npy\n",
       "4       0000a38978       1  ./data/train/0/0/0/0000a38978.npy\n",
       "...            ...     ...                                ...\n",
       "559995  ffff9a5645       1  ./data/train/f/f/f/ffff9a5645.npy\n",
       "559996  ffffab0c27       0  ./data/train/f/f/f/ffffab0c27.npy\n",
       "559997  ffffcf161a       1  ./data/train/f/f/f/ffffcf161a.npy\n",
       "559998  ffffd2c403       0  ./data/train/f/f/f/ffffd2c403.npy\n",
       "559999  fffff2180b       0  ./data/train/f/f/f/fffff2180b.npy\n",
       "\n",
       "[560000 rows x 3 columns]>"
      ]
     },
     "execution_count": 7,
     "metadata": {},
     "output_type": "execute_result"
    }
   ],
   "source": [
    "train.head"
   ]
  }
 ],
 "metadata": {
  "kernelspec": {
   "display_name": "Python [conda env:tf-gpu]",
   "language": "python",
   "name": "conda-env-tf-gpu-py"
  },
  "language_info": {
   "codemirror_mode": {
    "name": "ipython",
    "version": 3
   },
   "file_extension": ".py",
   "mimetype": "text/x-python",
   "name": "python",
   "nbconvert_exporter": "python",
   "pygments_lexer": "ipython3",
   "version": "3.9.6"
  }
 },
 "nbformat": 4,
 "nbformat_minor": 5
}
