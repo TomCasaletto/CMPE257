{
 "cells": [
  {
   "cell_type": "code",
   "execution_count": 2,
   "id": "87a27ef6-0103-45e0-83ea-e9b071da19da",
   "metadata": {},
   "outputs": [],
   "source": [
    "import os\n",
    "from pathlib import Path\n",
    "import numpy as np\n",
    "import pandas as pd\n",
    "# from PIL import Image\n",
    "from matplotlib import pyplot as plt\n",
    "# import seaborn as sns\n",
    "from astropy.units import imperial\n",
    "from gwpy.timeseries import TimeSeries\n",
    "import tensorflow as tf\n",
    "from tensorflow.keras import layers, models\n",
    "from IPython.display import display\n",
    "from sklearn import model_selection"
   ]
  },
  {
   "cell_type": "markdown",
   "id": "23552a4f-2c89-4fea-84ae-322cba2fede4",
   "metadata": {},
   "source": [
    "# Load Data"
   ]
  },
  {
   "cell_type": "code",
   "execution_count": 3,
   "id": "0d7f8893-8d57-466f-a1ef-e2a22ffd504d",
   "metadata": {},
   "outputs": [],
   "source": [
    "# Following load code adapted from:\n",
    "#  https://www.kaggle.com/xuzongniubi/g2net-efficientnet-b7-baseline-training\n",
    "\n",
    "train_meta = pd.read_csv('../../data/training_labels.csv')\n",
    "test_meta = pd.read_csv('../../data/sample_submission.csv')\n",
    "\n",
    "def get_train_file_path(image_id):\n",
    "    return \"../../data/train/{}/{}/{}/{}.npy\".format(\n",
    "        image_id[0], image_id[1], image_id[2], image_id)\n",
    "\n",
    "def get_test_file_path(image_id):\n",
    "    return \"../../data/test/{}/{}/{}/{}.npy\".format(\n",
    "        image_id[0], image_id[1], image_id[2], image_id)\n",
    "\n",
    "train_meta['file_path'] = train_meta['id'].apply(get_train_file_path)\n",
    "test_meta['file_path'] = test_meta['id'].apply(get_test_file_path)\n",
    "\n",
    "label_dict = pd.Series(train_meta.target.values,index=train_meta.id).to_dict()"
   ]
  },
  {
   "cell_type": "markdown",
   "id": "a3aee7b6-3d4d-4a99-8d74-90661f64ad1b",
   "metadata": {},
   "source": [
    "# Make Spectrograms"
   ]
  },
  {
   "cell_type": "code",
   "execution_count": 4,
   "id": "3aa77d11-9ee6-4d36-b637-5f4965ddf0e6",
   "metadata": {},
   "outputs": [],
   "source": [
    "def MinMaxNorm(img):\n",
    "    # Use min-max normalization to scale all pixels to values between 0 and 1.\n",
    "    scaled = np.zeros(img.shape)\n",
    "    for i in range(img.shape[2]):\n",
    "        scaled[:, :, i] = (img[:, :, i] - np.min(img[:, :, i])) / (np.max(img[:, :, i]) - np.min(img[:, :, i]))\n",
    "        \n",
    "    return scaled\n",
    "\n",
    "def MakeSpectrograms(data, method='channel', size=None, normalize=True, frange=(30, 500), qrange=(100, 110)):\n",
    "    # NOTE: Only 'channel' method is implemented at the moment.\n",
    "    \n",
    "    for i in range(len(data)):\n",
    "        tseries0 = TimeSeries(data[i, :, 0], sample_rate=2048)\n",
    "        tseries1 = TimeSeries(data[i, :, 1], sample_rate=2048, t0=2)\n",
    "        tseries2 = TimeSeries(data[i, :, 2], sample_rate=2048, t0=4)\n",
    "\n",
    "        qt0 = tseries0.q_transform(frange=frange, qrange=qrange)\n",
    "        qt1 = tseries1.q_transform(frange=frange, qrange=qrange)\n",
    "        qt2 = tseries2.q_transform(frange=frange, qrange=qrange)\n",
    "\n",
    "        temp = np.stack((qt0.value.tolist(), qt1.value.tolist(), qt2.value.tolist()), axis=-1)\n",
    "        \n",
    "        if (size is not None and len(size) == 2):\n",
    "            temp2 = tf.image.resize(temp, size, preserve_aspect_ratio=True)\n",
    "\n",
    "            # If on the first iteration, create an array to hold the data, now that we know the size.\n",
    "            if (i == 0):\n",
    "                qt = np.zeros((data.shape[0], temp2.shape[0], temp2.shape[1], 3))\n",
    "                \n",
    "            if (normalize):\n",
    "                qt[i] = MinMaxNorm(temp2)\n",
    "            else:\n",
    "                qt[i] = temp2\n",
    "            \n",
    "        else:\n",
    "            if (i == 0):\n",
    "                qt = np.zeros((data.shape[0], temp.shape[0], temp.shape[1], 3))\n",
    "            \n",
    "            if (normalize):\n",
    "                qt[i] = MinMaxNorm(temp)\n",
    "            else:\n",
    "                qt[i] = temp\n",
    "\n",
    "#     print(f'Type = {type(qt_channels)}, shape = {qt_channels.shape}')\n",
    "\n",
    "    return qt"
   ]
  },
  {
   "cell_type": "code",
   "execution_count": 19,
   "id": "4840382b-77bb-4cda-82d5-4db420fb7f88",
   "metadata": {},
   "outputs": [],
   "source": [
    "def SaveSpectrograms(ids, size, train_test='train'):\n",
    "#     if (data.shape[0] != len(ids)):\n",
    "#         print('Data and id arrays must be the same length')\n",
    "#         return 1\n",
    "    \n",
    "#     print(f'ids shape = {ids.shape}')\n",
    "    \n",
    "    for i in ids:\n",
    "#         print(f'i = {i}')\n",
    "        raw = np.load(\"../../data/{}/{}/{}/{}/{}.npy\".format(train_test, i[0], i[1], i[2], i)).T\n",
    "        raw = raw[np.newaxis, :, :]\n",
    "#         print(\"raw shape = {}\".format(raw.shape))\n",
    "        d = MakeSpectrograms(raw, size=size, normalize=True)\n",
    "#         print('d shape = {}'.format(d.shape))\n",
    "        path = \"../../data_{}x{}/{}/{}/{}/{}/\".format(d.shape[1],\n",
    "                d.shape[2], train_test, i[0], i[1], i[2])\n",
    "        Path(path).mkdir(parents=True, exist_ok=True)\n",
    "        np.save(path + \"{}.npy\".format(i), d[0])\n"
   ]
  },
  {
   "cell_type": "raw",
   "id": "4b577795-d354-47c7-b7cd-07da80d758bb",
   "metadata": {},
   "source": [
    "SaveSpectrograms(test_meta['id'], (128, 128), train_test='test')"
   ]
  },
  {
   "cell_type": "raw",
   "id": "c6711579-afdb-483d-aafb-ee02b9aa4370",
   "metadata": {},
   "source": [
    "path = \"../../data_{}x{}/train/{}/{}/{}/\".format(128,\n",
    "                120, ID[0], ID[1], ID[2])\n",
    "Path(path).mkdir(parents=True, exist_ok=True)"
   ]
  },
  {
   "cell_type": "raw",
   "id": "f90fdb94-3fdd-42be-9f35-0560946f817c",
   "metadata": {},
   "source": [
    "display(train_meta.head())\n",
    "print(train_meta['id'][155])"
   ]
  },
  {
   "cell_type": "raw",
   "id": "421dc743-c187-4249-a9dc-9f1b10e9d2d2",
   "metadata": {},
   "source": [
    "for i in range(train_meta.shape[0]):\n",
    "    if (train_meta['id'][i][0] != '0'):\n",
    "        print(f'First non-0 at i = {i}')\n",
    "        break\n",
    "# print(train_meta.shape[0])"
   ]
  },
  {
   "cell_type": "raw",
   "id": "ed2ad402-d673-4892-a295-06b460ed4e73",
   "metadata": {},
   "source": [
    "ID = '00000e74ad'\n",
    "X_raw = np.load(\"../../data/train/{}/{}/{}/{}.npy\".format(ID[0], ID[1], ID[2], ID)).T\n",
    "X_raw = X_raw[np.newaxis, :, :]\n",
    "print(X_raw.shape)\n",
    "# X = MakeSpectrograms(X_raw, size=(128, 128), normalize=True)\n",
    "X = MakeSpectrograms(X_raw, normalize=True)\n",
    "print(X.shape)\n",
    "plt.figure(figsize=(6, 4), dpi=120)\n",
    "plt.imshow(X[0])\n",
    "plt.figure(figsize=(6, 4), dpi=120)\n",
    "plt.imshow(X[0, :, :, 0])\n",
    "# SaveSpectrograms(None, None)"
   ]
  },
  {
   "cell_type": "raw",
   "id": "731b5911-3de0-4100-922a-96218d2a5384",
   "metadata": {},
   "source": [
    "foo = np.array([ID])\n",
    "print(foo.shape)\n",
    "for i in foo:\n",
    "    print(i)"
   ]
  },
  {
   "cell_type": "raw",
   "id": "7b833e7b-ecf6-4eec-a2ab-67d326fbe41c",
   "metadata": {},
   "source": [
    "ID = train_meta['id'][0]\n",
    "X = np.load(\"../../data_128x120/train/{}/{}/{}/{}.npy\".format(ID[0], ID[1], ID[2], ID))\n",
    "print(X.shape)\n",
    "plt.figure(figsize=(6, 4), dpi=120)\n",
    "plt.imshow(X)"
   ]
  },
  {
   "cell_type": "markdown",
   "id": "3538dc29-6955-4b19-8253-27cbc32d2c4f",
   "metadata": {},
   "source": [
    "# Custom Keras Generator"
   ]
  },
  {
   "cell_type": "markdown",
   "id": "4eed5321-a7b5-4d02-a323-575ec71990dc",
   "metadata": {},
   "source": [
    "From tutorial at: https://stanford.edu/~shervine/blog/keras-how-to-generate-data-on-the-fly"
   ]
  },
  {
   "cell_type": "code",
   "execution_count": 32,
   "id": "569c1cca-c05b-4eac-a952-bf53ebaacff9",
   "metadata": {},
   "outputs": [],
   "source": [
    "class DataGenerator(tf.keras.utils.Sequence):\n",
    "    def __init__(self, list_IDs, labels, batch_size=32, dim=(32,32,32), n_channels=1,\n",
    "             n_classes=10, shuffle=True, resize_shape=None, apply_norm=True,\n",
    "             apply_transforms=True, test_data = False):\n",
    "        \n",
    "        'Initialization'\n",
    "        self.dim = dim\n",
    "        self.batch_size = batch_size\n",
    "        self.labels = labels\n",
    "        self.list_IDs = list_IDs\n",
    "        self.n_channels = n_channels\n",
    "        self.n_classes = n_classes\n",
    "        self.shuffle = shuffle\n",
    "        self.resize_shape = resize_shape\n",
    "        self.apply_norm = apply_norm\n",
    "        self.apply_transforms = apply_transforms\n",
    "        self.test_data = test_data\n",
    "        self.on_epoch_end()\n",
    "        \n",
    "    def on_epoch_end(self):\n",
    "        'Updates indexes after each epoch'\n",
    "        self.indexes = np.arange(len(self.list_IDs))\n",
    "        if self.shuffle == True:\n",
    "            np.random.shuffle(self.indexes)\n",
    "#             print(\"Shuffling\")\n",
    "            \n",
    "    def __data_generation(self, list_IDs_temp):\n",
    "        'Generates data containing batch_size samples' # X : (n_samples, *dim, n_channels)\n",
    "        # Initialization\n",
    "        X = np.empty((self.batch_size, *self.dim, self.n_channels))\n",
    "        if (self.test_data == False):\n",
    "            y = np.empty((self.batch_size), dtype=int)\n",
    "            path_str = 'train'\n",
    "        else:\n",
    "            y = []\n",
    "            path_str = 'test'\n",
    "\n",
    "        # Generate data\n",
    "        for i, ID in enumerate(list_IDs_temp):\n",
    "            # Store sample\n",
    "            if (self.apply_transforms):\n",
    "                X[i,] = np.load(\"../../data/{}/{}/{}/{}/{}.npy\".format(path_str, ID[0], ID[1], ID[2], ID)).T\n",
    "            else:\n",
    "                X[i,] = np.load(\"../../data_{}x{}/{}/{}/{}/{}/{}.npy\".format(self.dim[0],\n",
    "                                self.dim[1], path_str, ID[0], ID[1], ID[2], ID))\n",
    "\n",
    "            # Store class\n",
    "            if (self.test_data == False):\n",
    "                y[i] = self.labels[ID]\n",
    "\n",
    "        # Not sure if I want this categorical transformation since I'm only doing\n",
    "        # a binary classification, but I'll leave it for now.\n",
    "        return X, y#tf.keras.utils.to_categorical(y, num_classes=self.n_classes)\n",
    "    \n",
    "    def __len__(self):\n",
    "        'Denotes the number of batches per epoch'\n",
    "        return int(np.floor(len(self.list_IDs) / self.batch_size))\n",
    "    \n",
    "    def __getitem__(self, index):\n",
    "        'Generate one batch of data'\n",
    "        # Generate indexes of the batch\n",
    "        indexes = self.indexes[index*self.batch_size:(index+1)*self.batch_size]\n",
    "\n",
    "        # Find list of IDs\n",
    "        list_IDs_temp = [self.list_IDs[k] for k in indexes]\n",
    "\n",
    "        # Generate data\n",
    "        X_raw, y = self.__data_generation(list_IDs_temp)\n",
    "        \n",
    "        if (self.apply_transforms):\n",
    "            X = MakeSpectrograms(X_raw, size=self.resize_shape, normalize=self.apply_norm)\n",
    "        else:\n",
    "            X = X_raw\n",
    "        \n",
    "#         self.out_shape = X[0].shape\n",
    "\n",
    "        return X, y\n",
    "    \n",
    "    def GetOutputShape(self):\n",
    "        if (self.apply_transforms):\n",
    "            ID = self.list_IDs[0]\n",
    "\n",
    "            # Initialization\n",
    "            X_raw = np.empty((1, *self.dim, self.n_channels))\n",
    "            y = np.empty((1), dtype=int)\n",
    "\n",
    "            # Generate data\n",
    "            # Store sample\n",
    "            X_raw[0,] = np.load(\"../../data/train/{}/{}/{}/{}.npy\".format(ID[0], ID[1], ID[2], ID)).T\n",
    "\n",
    "            if (self.apply_transforms):\n",
    "                X = MakeSpectrograms(X_raw, size=self.resize_shape, normalize=self.apply_norm)\n",
    "        \n",
    "            return X[0].shape\n",
    "        else:\n",
    "            return (*self.dim, self.n_channels)"
   ]
  },
  {
   "cell_type": "markdown",
   "id": "ee6c7269-3d45-4934-b1d0-05b723786d95",
   "metadata": {},
   "source": [
    "# Data Selection"
   ]
  },
  {
   "cell_type": "markdown",
   "id": "ac2c5fda-2f57-4098-b2d5-ab4d1db01d91",
   "metadata": {},
   "source": [
    "#### Select some samples and split into training and validation sets"
   ]
  },
  {
   "cell_type": "code",
   "execution_count": 12,
   "id": "eb05fcb8-453c-400f-85fd-b9950573c9ef",
   "metadata": {},
   "outputs": [],
   "source": [
    "starting_sample = 0\n",
    "num_samples = 200000\n",
    "end_idx = starting_sample + num_samples\n",
    "id_list = train_meta['id'][starting_sample : end_idx].to_numpy()\n",
    "label_list = [label_dict[k] for k in id_list]\n",
    "\n",
    "X_train, X_val = model_selection.train_test_split(id_list, test_size=0.2, \n",
    "                                                    shuffle=True, random_state=42,\n",
    "                                                    stratify=label_list)\n",
    "\n",
    "# print(X_train)\n",
    "# print(X_val)\n",
    "\n",
    "# Params for raw data\n",
    "params_raw = {'dim': np.array([4096]),\n",
    "          'batch_size': 50,\n",
    "          'n_classes': 2,\n",
    "          'n_channels': 3,\n",
    "          'shuffle': True,\n",
    "          'resize_shape': (128, 128),\n",
    "          'apply_norm': True,\n",
    "          'apply_transforms': True}\n",
    "\n",
    "# Params for transformed data\n",
    "params_trans = {'dim': np.array([128, 120]),\n",
    "          'batch_size': 100,\n",
    "          'n_classes': 2,\n",
    "          'n_channels': 3,\n",
    "          'shuffle': True,\n",
    "          'resize_shape': (128, 128),\n",
    "          'apply_norm': True,\n",
    "          'apply_transforms': False}\n",
    "\n",
    "train_gen = DataGenerator(X_train, label_dict, **params_trans)\n",
    "val_gen = DataGenerator(X_val, label_dict, **params_trans)\n",
    "\n",
    "data_shape = train_gen.GetOutputShape()"
   ]
  },
  {
   "cell_type": "code",
   "execution_count": 36,
   "id": "4d5d948a-c6c1-4b8e-ac4f-029b71b19cbb",
   "metadata": {},
   "outputs": [],
   "source": [
    "X_test = test_meta['id'].to_numpy()\n",
    "\n",
    "# Params for test data\n",
    "params_test = {'dim': np.array([128, 120]),\n",
    "          'batch_size': 100,\n",
    "          'n_classes': 2,\n",
    "          'n_channels': 3,\n",
    "          'shuffle': False,\n",
    "          'resize_shape': (128, 128),\n",
    "          'apply_norm': True,\n",
    "          'apply_transforms': False,\n",
    "          'test_data': True}\n",
    "\n",
    "test_gen = DataGenerator(X_test, None, **params_test)"
   ]
  },
  {
   "cell_type": "raw",
   "id": "a3fc4f17-55bc-4779-80e5-f4c74224a6bd",
   "metadata": {},
   "source": [
    "print(X_test)"
   ]
  },
  {
   "cell_type": "raw",
   "id": "b17a7e53-668c-449d-97ce-16ffe938324f",
   "metadata": {},
   "source": [
    "foo, bar = train_gen[0]\n",
    "print(foo.shape, bar.shape)\n",
    "plt.imshow(foo[0])\n",
    "plt.show()\n",
    "\n",
    "foo2, bar2 = val_gen[0]\n",
    "print(foo2[0].shape, bar2[1].shape)\n",
    "plt.imshow(foo2[0])"
   ]
  },
  {
   "cell_type": "raw",
   "id": "ec36fb09-3b8f-49bb-998b-d07301c8e871",
   "metadata": {},
   "source": [
    "# Get size of output. It will depend on the frange and maybe qrange for the Q transform as\n",
    "# well as the resize_shape used.\n",
    "# First trigger the generator to run and generate some data. I'm not sure if this process will really\n",
    "# work, but let's try.\n",
    "train_gen[0]\n",
    "# Then get the shape of that data.\n",
    "data_shape = train_gen.out_shape\n",
    "# Finally \"reset\" the generator by calling the on_epoch_end function\n",
    "train_gen.on_epoch_end()"
   ]
  },
  {
   "cell_type": "raw",
   "id": "6ee3ea71-131f-4431-8600-f5c43ac5ea9d",
   "metadata": {},
   "source": [
    "print(data_shape)\n",
    "print(X_train.shape, X_val.shape)\n",
    "X, y = train_gen[0]"
   ]
  },
  {
   "cell_type": "raw",
   "id": "8bca3625-c5be-46ee-9be8-772ed4de15a4",
   "metadata": {},
   "source": [
    "print(X.shape, y.shape)\n",
    "print(y)\n",
    "print(type(X), type(y))"
   ]
  },
  {
   "cell_type": "markdown",
   "id": "9de97816-2b74-4b01-903f-42468bd8afa0",
   "metadata": {},
   "source": [
    "# Build CNN"
   ]
  },
  {
   "cell_type": "markdown",
   "id": "57ffc328-c03c-4302-8ebb-5270bc4813dd",
   "metadata": {},
   "source": [
    "Following tutorial here: https://www.tensorflow.org/tutorials/images/cnn"
   ]
  },
  {
   "cell_type": "code",
   "execution_count": 13,
   "id": "49307bfc-f64e-4acf-bffe-ef005dc0cafa",
   "metadata": {},
   "outputs": [
    {
     "name": "stdout",
     "output_type": "stream",
     "text": [
      "Num GPUs Available:  1\n"
     ]
    }
   ],
   "source": [
    "print(\"Num GPUs Available: \", len(tf.config.list_physical_devices('GPU')))"
   ]
  },
  {
   "cell_type": "markdown",
   "id": "2ed5f8a3-632e-43d0-adb4-2941cc41c074",
   "metadata": {},
   "source": [
    "### Build Model"
   ]
  },
  {
   "cell_type": "code",
   "execution_count": 14,
   "id": "b7f99fa0-5aba-4d37-b15c-f85d136ed1c5",
   "metadata": {},
   "outputs": [
    {
     "name": "stdout",
     "output_type": "stream",
     "text": [
      "Model: \"sequential\"\n",
      "_________________________________________________________________\n",
      "Layer (type)                 Output Shape              Param #   \n",
      "=================================================================\n",
      "conv2d (Conv2D)              (None, 123, 115, 32)      3488      \n",
      "_________________________________________________________________\n",
      "max_pooling2d (MaxPooling2D) (None, 30, 28, 32)        0         \n",
      "_________________________________________________________________\n",
      "conv2d_1 (Conv2D)            (None, 28, 26, 64)        18496     \n",
      "_________________________________________________________________\n",
      "max_pooling2d_1 (MaxPooling2 (None, 14, 13, 64)        0         \n",
      "_________________________________________________________________\n",
      "conv2d_2 (Conv2D)            (None, 12, 11, 64)        36928     \n",
      "_________________________________________________________________\n",
      "flatten (Flatten)            (None, 8448)              0         \n",
      "_________________________________________________________________\n",
      "dense (Dense)                (None, 64)                540736    \n",
      "_________________________________________________________________\n",
      "dense_1 (Dense)              (None, 1)                 65        \n",
      "=================================================================\n",
      "Total params: 599,713\n",
      "Trainable params: 599,713\n",
      "Non-trainable params: 0\n",
      "_________________________________________________________________\n"
     ]
    }
   ],
   "source": [
    "tf.keras.backend.clear_session()\n",
    "model = models.Sequential()\n",
    "model.add(layers.Conv2D(32, (6, 6), activation='relu', input_shape=(data_shape[0], data_shape[1], data_shape[2])))\n",
    "model.add(layers.MaxPooling2D((4, 4)))\n",
    "model.add(layers.Conv2D(64, (3, 3), activation='relu'))\n",
    "model.add(layers.MaxPooling2D((2, 2)))\n",
    "model.add(layers.Conv2D(64, (3, 3), activation='relu'))\n",
    "model.add(layers.Flatten())\n",
    "model.add(layers.Dense(64, activation='relu'))\n",
    "model.add(layers.Dense(1, activation='sigmoid'))\n",
    "# model.add(layers.Dense(2, activation='softmax'))\n",
    "# model.add(layers.SoftMax())\n",
    "model.summary()"
   ]
  },
  {
   "cell_type": "markdown",
   "id": "82a58360-e65f-410b-82b7-6e104887ce0a",
   "metadata": {},
   "source": [
    "### Compile and Train Model"
   ]
  },
  {
   "cell_type": "code",
   "execution_count": 15,
   "id": "4ea525ec-9b3c-4817-bc05-6279cd1d701d",
   "metadata": {
    "tags": []
   },
   "outputs": [
    {
     "name": "stdout",
     "output_type": "stream",
     "text": [
      "Epoch 1/5\n",
      "1600/1600 [==============================] - 9070s 6s/step - loss: 0.6414 - accuracy: 0.6070 - val_loss: 0.6220 - val_accuracy: 0.6308\n",
      "Epoch 2/5\n",
      "1600/1600 [==============================] - 6789s 4s/step - loss: 0.6031 - accuracy: 0.6559 - val_loss: 0.6003 - val_accuracy: 0.6586\n",
      "Epoch 3/5\n",
      "1600/1600 [==============================] - 6050s 4s/step - loss: 0.5994 - accuracy: 0.6590 - val_loss: 0.6039 - val_accuracy: 0.6550\n",
      "Epoch 4/5\n",
      "1600/1600 [==============================] - 6078s 4s/step - loss: 0.5956 - accuracy: 0.6621 - val_loss: 0.5962 - val_accuracy: 0.6619\n",
      "Epoch 5/5\n",
      "1600/1600 [==============================] - 6105s 4s/step - loss: 0.5921 - accuracy: 0.6670 - val_loss: 0.5937 - val_accuracy: 0.6639\n"
     ]
    }
   ],
   "source": [
    "model.compile(optimizer='adam',\n",
    "#               loss=tf.keras.losses.SparseCategoricalCrossentropy(from_logits=True),\n",
    "              loss='binary_crossentropy',\n",
    "#               loss=tf.keras.losses.CategoricalCrossentropy(),\n",
    "              metrics=['accuracy'])\n",
    "\n",
    "checkpoint_filepath = './checkpoint'\n",
    "model_checkpoint_callback = tf.keras.callbacks.ModelCheckpoint(\n",
    "    filepath=checkpoint_filepath,\n",
    "    save_weights_only=True,\n",
    "    monitor='val_accuracy',\n",
    "    mode='max',\n",
    "    save_best_only=True)\n",
    "\n",
    "history = model.fit(train_gen, validation_data=val_gen,\n",
    "                     epochs=5, callbacks=[model_checkpoint_callback])"
   ]
  },
  {
   "cell_type": "raw",
   "id": "dcdb8a79-339b-482f-9b82-b07bd6201b40",
   "metadata": {},
   "source": [
    "model.save('trained_200000s_5e_6639acc')"
   ]
  },
  {
   "cell_type": "raw",
   "id": "e23c78cc-5361-49d2-8978-9963f406f431",
   "metadata": {
    "tags": []
   },
   "source": [
    "model.load_weights(checkpoint_filepath)"
   ]
  },
  {
   "cell_type": "markdown",
   "id": "923d7d38-27cf-4416-be3f-42c16eea4ace",
   "metadata": {},
   "source": [
    "### Evaluate Model"
   ]
  },
  {
   "cell_type": "code",
   "execution_count": 24,
   "id": "e6be992b-fda2-444b-b903-ae1535f9d23f",
   "metadata": {},
   "outputs": [
    {
     "name": "stdout",
     "output_type": "stream",
     "text": [
      "400/400 [==============================] - 2032s 5s/step - loss: 0.5937 - accuracy: 0.6639\n",
      "0.6638749837875366\n"
     ]
    },
    {
     "data": {
      "image/png": "[encoded data removed]",
      "text/plain": [
       "<Figure size 432x288 with 1 Axes>"
      ]
     },
     "metadata": {
      "needs_background": "light"
     },
     "output_type": "display_data"
    }
   ],
   "source": [
    "plt.plot(history.history['accuracy'], label='accuracy')\n",
    "plt.plot(history.history['val_accuracy'], label = 'val_accuracy')\n",
    "plt.xlabel('Epoch')\n",
    "plt.ylabel('Accuracy')\n",
    "plt.ylim([0.1, 1])\n",
    "plt.legend(loc='lower right')\n",
    "\n",
    "test_loss, test_acc = model.evaluate(val_gen, verbose=1)\n",
    "\n",
    "print(test_acc)"
   ]
  },
  {
   "cell_type": "code",
   "execution_count": 27,
   "id": "9b81b65b-e2f7-427e-ba7a-849e2fe8c2c3",
   "metadata": {},
   "outputs": [
    {
     "data": {
      "image/png": "[encoded data removed]",
      "text/plain": [
       "<Figure size 576x360 with 1 Axes>"
      ]
     },
     "metadata": {
      "needs_background": "light"
     },
     "output_type": "display_data"
    }
   ],
   "source": [
    "pd.DataFrame(history.history).plot(figsize=(8, 5))\n",
    "plt.grid(True)\n",
    "plt.gca().set_ylim(0.5, 0.7)\n",
    "# save_fig(\\\"keras_learning_curves_plot\\\")\n",
    "plt.show()"
   ]
  },
  {
   "cell_type": "markdown",
   "id": "30c29812-5aa3-4e4a-887d-dbe86a6eae26",
   "metadata": {},
   "source": [
    "### Test Model"
   ]
  },
  {
   "cell_type": "code",
   "execution_count": 37,
   "id": "6bbdc648-50f4-4d6a-a907-4a77766e3330",
   "metadata": {},
   "outputs": [
    {
     "name": "stdout",
     "output_type": "stream",
     "text": [
      "[[0.9065844 ]\n",
      " [0.6989303 ]\n",
      " [0.4694561 ]\n",
      " [0.65847087]\n",
      " [0.31070006]\n",
      " [0.36328635]\n",
      " [0.41434777]\n",
      " [0.33325   ]\n",
      " [0.6985968 ]\n",
      " [0.49349225]]\n"
     ]
    }
   ],
   "source": [
    "y_pred = model.predict(test_gen)\n",
    "print(y_pred[:10])"
   ]
  },
  {
   "cell_type": "code",
   "execution_count": 50,
   "id": "21e32909-5603-4c76-a952-ee95cdbfb5eb",
   "metadata": {},
   "outputs": [],
   "source": [
    "import csv\n",
    "\n",
    "with open(\"my_submission.csv\", \"w\", newline='') as file1:\n",
    "    writer = csv.writer(file1)\n",
    "    writer.writerow(['id', 'target'])\n",
    "    \n",
    "    for i, v in zip(test_meta['id'].to_numpy(), y_pred):\n",
    "        writer.writerow([i, round(v[0])])"
   ]
  }
 ],
 "metadata": {
  "kernelspec": {
   "display_name": "Python [conda env:tf-gpu]",
   "language": "python",
   "name": "conda-env-tf-gpu-py"
  },
  "language_info": {
   "codemirror_mode": {
    "name": "ipython",
    "version": 3
   },
   "file_extension": ".py",
   "mimetype": "text/x-python",
   "name": "python",
   "nbconvert_exporter": "python",
   "pygments_lexer": "ipython3",
   "version": "3.9.6"
  }
 },
 "nbformat": 4,
 "nbformat_minor": 5
}
