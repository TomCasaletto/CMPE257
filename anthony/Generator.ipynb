{
 "cells": [
  {
   "cell_type": "code",
   "execution_count": 50,
   "id": "87a27ef6-0103-45e0-83ea-e9b071da19da",
   "metadata": {},
   "outputs": [],
   "source": [
    "# import os\n",
    "from pathlib import Path\n",
    "import numpy as np\n",
    "import pandas as pd\n",
    "# from PIL import Image\n",
    "from matplotlib import pyplot as plt\n",
    "# import seaborn as sns\n",
    "from astropy.units import imperial\n",
    "from gwpy.timeseries import TimeSeries\n",
    "import tensorflow as tf\n",
    "from tensorflow.keras import layers, models\n",
    "from IPython.display import display\n",
    "from sklearn import model_selection"
   ]
  },
  {
   "cell_type": "markdown",
   "id": "23552a4f-2c89-4fea-84ae-322cba2fede4",
   "metadata": {},
   "source": [
    "# Load Data"
   ]
  },
  {
   "cell_type": "code",
   "execution_count": 2,
   "id": "0d7f8893-8d57-466f-a1ef-e2a22ffd504d",
   "metadata": {},
   "outputs": [],
   "source": [
    "# Following load code adapted from:\n",
    "#  https://www.kaggle.com/xuzongniubi/g2net-efficientnet-b7-baseline-training\n",
    "\n",
    "train_meta = pd.read_csv('../../data/training_labels.csv')\n",
    "test_meta = pd.read_csv('../../data/sample_submission.csv')\n",
    "\n",
    "def get_train_file_path(image_id):\n",
    "    return \"../../data/train/{}/{}/{}/{}.npy\".format(\n",
    "        image_id[0], image_id[1], image_id[2], image_id)\n",
    "\n",
    "def get_test_file_path(image_id):\n",
    "    return \"../../data/test/{}/{}/{}/{}.npy\".format(\n",
    "        image_id[0], image_id[1], image_id[2], image_id)\n",
    "\n",
    "train_meta['file_path'] = train_meta['id'].apply(get_train_file_path)\n",
    "test_meta['file_path'] = test_meta['id'].apply(get_test_file_path)\n",
    "\n",
    "label_dict = pd.Series(train_meta.target.values,index=train_meta.id).to_dict()"
   ]
  },
  {
   "cell_type": "markdown",
   "id": "a3aee7b6-3d4d-4a99-8d74-90661f64ad1b",
   "metadata": {},
   "source": [
    "# Make Spectrograms"
   ]
  },
  {
   "cell_type": "code",
   "execution_count": 3,
   "id": "3aa77d11-9ee6-4d36-b637-5f4965ddf0e6",
   "metadata": {},
   "outputs": [],
   "source": [
    "def MinMaxNorm(img):\n",
    "    # Use min-max normalization to scale all pixels to values between 0 and 1.\n",
    "    scaled = np.zeros(img.shape)\n",
    "    for i in range(img.shape[2]):\n",
    "        scaled[:, :, i] = (img[:, :, i] - np.min(img[:, :, i])) / (np.max(img[:, :, i]) - np.min(img[:, :, i]))\n",
    "        \n",
    "    return scaled\n",
    "\n",
    "def MakeSpectrograms(data, method='channel', size=None, normalize=True, frange=(30, 500), qrange=(100, 110)):\n",
    "    # NOTE: Only 'channel' method is implemented at the moment.\n",
    "    \n",
    "    for i in range(len(data)):\n",
    "        tseries0 = TimeSeries(data[i, :, 0], sample_rate=2048)\n",
    "        tseries1 = TimeSeries(data[i, :, 1], sample_rate=2048, t0=2)\n",
    "        tseries2 = TimeSeries(data[i, :, 2], sample_rate=2048, t0=4)\n",
    "\n",
    "        qt0 = tseries0.q_transform(frange=frange, qrange=qrange)\n",
    "        qt1 = tseries1.q_transform(frange=frange, qrange=qrange)\n",
    "        qt2 = tseries2.q_transform(frange=frange, qrange=qrange)\n",
    "\n",
    "        temp = np.stack((qt0.value.tolist(), qt1.value.tolist(), qt2.value.tolist()), axis=-1)\n",
    "        \n",
    "        if (size is not None and len(size) == 2):\n",
    "            temp2 = tf.image.resize(temp, size, preserve_aspect_ratio=True)\n",
    "\n",
    "            # If on the first iteration, create an array to hold the data, now that we know the size.\n",
    "            if (i == 0):\n",
    "                qt = np.zeros((data.shape[0], temp2.shape[0], temp2.shape[1], 3))\n",
    "                \n",
    "            if (normalize):\n",
    "                qt[i] = MinMaxNorm(temp2)\n",
    "            else:\n",
    "                qt[i] = temp2\n",
    "            \n",
    "        else:\n",
    "            if (i == 0):\n",
    "                qt = np.zeros((data.shape[0], temp.shape[0], temp.shape[1], 3))\n",
    "            \n",
    "            if (normalize):\n",
    "                qt[i] = MinMaxNorm(temp)\n",
    "            else:\n",
    "                qt[i] = temp\n",
    "\n",
    "#     print(f'Type = {type(qt_channels)}, shape = {qt_channels.shape}')\n",
    "\n",
    "    return qt"
   ]
  },
  {
   "cell_type": "code",
   "execution_count": 87,
   "id": "4840382b-77bb-4cda-82d5-4db420fb7f88",
   "metadata": {},
   "outputs": [],
   "source": [
    "def SaveSpectrograms(ids, size):\n",
    "#     if (data.shape[0] != len(ids)):\n",
    "#         print('Data and id arrays must be the same length')\n",
    "#         return 1\n",
    "    \n",
    "#     print(f'ids shape = {ids.shape}')\n",
    "    \n",
    "    for i in ids:\n",
    "#         print(f'i = {i}')\n",
    "        raw = np.load(\"../../data/train/{}/{}/{}/{}.npy\".format(i[0], i[1], i[2], i)).T\n",
    "        raw = raw[np.newaxis, :, :]\n",
    "#         print(\"raw shape = {}\".format(raw.shape))\n",
    "        d = MakeSpectrograms(raw, size=size, normalize=True)\n",
    "#         print('d shape = {}'.format(d.shape))\n",
    "        path = \"../../data_{}x{}/train/{}/{}/{}/\".format(d.shape[1],\n",
    "                d.shape[2], i[0], i[1], i[2])\n",
    "        Path(path).mkdir(parents=True, exist_ok=True)\n",
    "        np.save(path + \"{}.npy\".format(i), d[0])\n"
   ]
  },
  {
   "cell_type": "code",
   "execution_count": 88,
   "id": "748ada95-610d-457d-865f-fad5885e0211",
   "metadata": {},
   "outputs": [],
   "source": [
    "SaveSpectrograms(train_meta['id'][:4000], (128, 128))"
   ]
  },
  {
   "cell_type": "code",
   "execution_count": 55,
   "id": "a9e98f44-c076-4732-af5c-6d7dbf22702c",
   "metadata": {},
   "outputs": [],
   "source": [
    "path = \"../../data_{}x{}/train/{}/{}/{}/\".format(128,\n",
    "                120, ID[0], ID[1], ID[2])\n",
    "Path(path).mkdir(parents=True, exist_ok=True)"
   ]
  },
  {
   "cell_type": "code",
   "execution_count": 56,
   "id": "7c73fb0b-8304-4c8d-89fc-7916923a3052",
   "metadata": {},
   "outputs": [
    {
     "name": "stdout",
     "output_type": "stream",
     "text": [
      "(1, 4096, 3)\n",
      "(1, 128, 120, 3)\n"
     ]
    }
   ],
   "source": [
    "ID = '00000e74ad'\n",
    "X_raw = np.load(\"../../data/train/{}/{}/{}/{}.npy\".format(ID[0], ID[1], ID[2], ID)).T\n",
    "X_raw = X_raw[np.newaxis, :, :]\n",
    "print(X_raw.shape)\n",
    "X = MakeSpectrograms(X_raw, size=(128, 128), normalize=True)\n",
    "print(X.shape)\n",
    "\n",
    "# SaveSpectrograms(None, None)"
   ]
  },
  {
   "cell_type": "code",
   "execution_count": 48,
   "id": "c617d262-cd84-4142-8f6d-75dd1868ca84",
   "metadata": {},
   "outputs": [
    {
     "name": "stdout",
     "output_type": "stream",
     "text": [
      "(1,)\n",
      "00000e74ad\n"
     ]
    }
   ],
   "source": [
    "foo = np.array([ID])\n",
    "print(foo.shape)\n",
    "for i in foo:\n",
    "    print(i)"
   ]
  },
  {
   "cell_type": "code",
   "execution_count": 86,
   "id": "0339176e-d2ef-47cc-a8f6-e69ec9a58c0b",
   "metadata": {},
   "outputs": [
    {
     "name": "stdout",
     "output_type": "stream",
     "text": [
      "(128, 120, 3)\n"
     ]
    },
    {
     "data": {
      "text/plain": [
       "<matplotlib.image.AxesImage at 0x295d20f0910>"
      ]
     },
     "execution_count": 86,
     "metadata": {},
     "output_type": "execute_result"
    },
    {
     "data": {
      "image/png": "[encoded data removed]",
      "text/plain": [
       "<Figure size 960x720 with 1 Axes>"
      ]
     },
     "metadata": {
      "needs_background": "light"
     },
     "output_type": "display_data"
    }
   ],
   "source": [
    "ID = train_meta['id'][1]\n",
    "X = np.load(\"../../data_128x120/train/{}/{}/{}/{}.npy\".format(ID[0], ID[1], ID[2], ID))\n",
    "print(X.shape)\n",
    "plt.figure(figsize=(8, 6), dpi=120)\n",
    "plt.imshow(X)"
   ]
  },
  {
   "cell_type": "markdown",
   "id": "3538dc29-6955-4b19-8253-27cbc32d2c4f",
   "metadata": {},
   "source": [
    "# Custom Keras Generator"
   ]
  },
  {
   "cell_type": "markdown",
   "id": "4eed5321-a7b5-4d02-a323-575ec71990dc",
   "metadata": {},
   "source": [
    "From tutorial at: https://stanford.edu/~shervine/blog/keras-how-to-generate-data-on-the-fly"
   ]
  },
  {
   "cell_type": "code",
   "execution_count": 4,
   "id": "569c1cca-c05b-4eac-a952-bf53ebaacff9",
   "metadata": {},
   "outputs": [],
   "source": [
    "class DataGenerator(tf.keras.utils.Sequence):\n",
    "    def __init__(self, list_IDs, labels, batch_size=32, dim=(32,32,32), n_channels=1,\n",
    "             n_classes=10, shuffle=True, resize_shape=None, apply_norm=True):\n",
    "        'Initialization'\n",
    "        self.dim = dim\n",
    "        self.batch_size = batch_size\n",
    "        self.labels = labels\n",
    "        self.list_IDs = list_IDs\n",
    "        self.n_channels = n_channels\n",
    "        self.n_classes = n_classes\n",
    "        self.shuffle = shuffle\n",
    "        self.resize_shape = resize_shape\n",
    "        self.apply_norm = apply_norm\n",
    "        self.on_epoch_end()\n",
    "        \n",
    "    def on_epoch_end(self):\n",
    "        'Updates indexes after each epoch'\n",
    "        self.indexes = np.arange(len(self.list_IDs))\n",
    "        if self.shuffle == True:\n",
    "            np.random.shuffle(self.indexes)\n",
    "            \n",
    "    def __data_generation(self, list_IDs_temp):\n",
    "        'Generates data containing batch_size samples' # X : (n_samples, *dim, n_channels)\n",
    "        # Initialization\n",
    "        X = np.empty((self.batch_size, *self.dim, self.n_channels))\n",
    "        y = np.empty((self.batch_size), dtype=int)\n",
    "\n",
    "        # Generate data\n",
    "        for i, ID in enumerate(list_IDs_temp):\n",
    "            # Store sample\n",
    "            X[i,] = np.load(\"../../data/train/{}/{}/{}/{}.npy\".format(ID[0], ID[1], ID[2], ID)).T\n",
    "\n",
    "            # Store class\n",
    "            y[i] = self.labels[ID]\n",
    "\n",
    "        # Not sure if I want this categorical transformation since I'm only doing\n",
    "        # a binary classification, but I'll leave it for now.\n",
    "        return X, y#tf.keras.utils.to_categorical(y, num_classes=self.n_classes)\n",
    "    \n",
    "    def __len__(self):\n",
    "        'Denotes the number of batches per epoch'\n",
    "        return int(np.floor(len(self.list_IDs) / self.batch_size))\n",
    "    \n",
    "    def __getitem__(self, index):\n",
    "        'Generate one batch of data'\n",
    "        # Generate indexes of the batch\n",
    "        indexes = self.indexes[index*self.batch_size:(index+1)*self.batch_size]\n",
    "\n",
    "        # Find list of IDs\n",
    "        list_IDs_temp = [self.list_IDs[k] for k in indexes]\n",
    "\n",
    "        # Generate data\n",
    "        X_raw, y = self.__data_generation(list_IDs_temp)\n",
    "        \n",
    "        X = MakeSpectrograms(X_raw, size=self.resize_shape, normalize=self.apply_norm)\n",
    "        \n",
    "#         self.out_shape = X[0].shape\n",
    "\n",
    "        return X, y\n",
    "    \n",
    "    def GetOutputShape(self):\n",
    "        ID = self.list_IDs[0]\n",
    "        \n",
    "        # Initialization\n",
    "        X_raw = np.empty((1, *self.dim, self.n_channels))\n",
    "        y = np.empty((1), dtype=int)\n",
    "\n",
    "        # Generate data\n",
    "        # Store sample\n",
    "        X_raw[0,] = np.load(\"../../data/train/{}/{}/{}/{}.npy\".format(ID[0], ID[1], ID[2], ID)).T\n",
    "\n",
    "        X = MakeSpectrograms(X_raw, size=self.resize_shape, normalize=self.apply_norm)\n",
    "        \n",
    "        return X[0].shape"
   ]
  },
  {
   "cell_type": "markdown",
   "id": "ee6c7269-3d45-4934-b1d0-05b723786d95",
   "metadata": {},
   "source": [
    "# Data Selection"
   ]
  },
  {
   "cell_type": "markdown",
   "id": "ac2c5fda-2f57-4098-b2d5-ab4d1db01d91",
   "metadata": {},
   "source": [
    "#### Select some samples and split into training and validation sets"
   ]
  },
  {
   "cell_type": "code",
   "execution_count": 20,
   "id": "eb05fcb8-453c-400f-85fd-b9950573c9ef",
   "metadata": {},
   "outputs": [],
   "source": [
    "starting_sample = 4000\n",
    "num_samples = 1000\n",
    "end_idx = starting_sample + num_samples\n",
    "id_list = train_meta['id'][starting_sample : end_idx].to_numpy()\n",
    "label_list = [label_dict[k] for k in id_list]\n",
    "\n",
    "X_train, X_val = model_selection.train_test_split(id_list,test_size=0.2, \n",
    "                                                    shuffle=True, random_state=42,\n",
    "                                                    stratify=label_list)\n",
    "\n",
    "params = {'dim': np.array([4096]),\n",
    "          'batch_size': 100,\n",
    "          'n_classes': 2,\n",
    "          'n_channels': 3,\n",
    "          'shuffle': True,\n",
    "          'resize_shape': (128, 128)}\n",
    "\n",
    "train_gen = DataGenerator(X_train, label_dict, **params)\n",
    "val_gen = DataGenerator(X_val, label_dict, **params)\n",
    "\n",
    "data_shape = train_gen.GetOutputShape()"
   ]
  },
  {
   "cell_type": "raw",
   "id": "ec36fb09-3b8f-49bb-998b-d07301c8e871",
   "metadata": {},
   "source": [
    "# Get size of output. It will depend on the frange and maybe qrange for the Q transform as\n",
    "# well as the resize_shape used.\n",
    "# First trigger the generator to run and generate some data. I'm not sure if this process will really\n",
    "# work, but let's try.\n",
    "train_gen[0]\n",
    "# Then get the shape of that data.\n",
    "data_shape = train_gen.out_shape\n",
    "# Finally \"reset\" the generator by calling the on_epoch_end function\n",
    "train_gen.on_epoch_end()"
   ]
  },
  {
   "cell_type": "raw",
   "id": "a7e98bb6-9b41-467b-aa66-af77325abf73",
   "metadata": {},
   "source": [
    "print(data_shape)\n",
    "print(X_train.shape, X_val.shape)\n",
    "X, y = train_gen[0]"
   ]
  },
  {
   "cell_type": "raw",
   "id": "c5c696cb-00ff-4fca-80b2-2592ae86d732",
   "metadata": {},
   "source": [
    "print(X.shape, y.shape)\n",
    "print(y)\n",
    "print(type(X), type(y))"
   ]
  },
  {
   "cell_type": "markdown",
   "id": "9de97816-2b74-4b01-903f-42468bd8afa0",
   "metadata": {},
   "source": [
    "# Build CNN"
   ]
  },
  {
   "cell_type": "markdown",
   "id": "57ffc328-c03c-4302-8ebb-5270bc4813dd",
   "metadata": {},
   "source": [
    "Following tutorial here: https://www.tensorflow.org/tutorials/images/cnn"
   ]
  },
  {
   "cell_type": "code",
   "execution_count": 6,
   "id": "09a6f23f-7622-4fb5-b2dc-547183e28a17",
   "metadata": {},
   "outputs": [
    {
     "name": "stdout",
     "output_type": "stream",
     "text": [
      "Num GPUs Available:  1\n"
     ]
    }
   ],
   "source": [
    "print(\"Num GPUs Available: \", len(tf.config.list_physical_devices('GPU')))"
   ]
  },
  {
   "cell_type": "markdown",
   "id": "2ed5f8a3-632e-43d0-adb4-2941cc41c074",
   "metadata": {},
   "source": [
    "### Build Model"
   ]
  },
  {
   "cell_type": "code",
   "execution_count": 7,
   "id": "b7f99fa0-5aba-4d37-b15c-f85d136ed1c5",
   "metadata": {},
   "outputs": [
    {
     "name": "stdout",
     "output_type": "stream",
     "text": [
      "Model: \"sequential\"\n",
      "_________________________________________________________________\n",
      "Layer (type)                 Output Shape              Param #   \n",
      "=================================================================\n",
      "conv2d (Conv2D)              (None, 117, 109, 32)      13856     \n",
      "_________________________________________________________________\n",
      "max_pooling2d (MaxPooling2D) (None, 14, 13, 32)        0         \n",
      "_________________________________________________________________\n",
      "conv2d_1 (Conv2D)            (None, 12, 11, 64)        18496     \n",
      "_________________________________________________________________\n",
      "max_pooling2d_1 (MaxPooling2 (None, 6, 5, 64)          0         \n",
      "_________________________________________________________________\n",
      "conv2d_2 (Conv2D)            (None, 4, 3, 64)          36928     \n",
      "_________________________________________________________________\n",
      "flatten (Flatten)            (None, 768)               0         \n",
      "_________________________________________________________________\n",
      "dense (Dense)                (None, 64)                49216     \n",
      "_________________________________________________________________\n",
      "dense_1 (Dense)              (None, 1)                 65        \n",
      "=================================================================\n",
      "Total params: 118,561\n",
      "Trainable params: 118,561\n",
      "Non-trainable params: 0\n",
      "_________________________________________________________________\n"
     ]
    }
   ],
   "source": [
    "tf.keras.backend.clear_session()\n",
    "model = models.Sequential()\n",
    "model.add(layers.Conv2D(32, (12, 12), activation='relu', input_shape=(data_shape[0], data_shape[1], data_shape[2])))\n",
    "model.add(layers.MaxPooling2D((8, 8)))\n",
    "model.add(layers.Conv2D(64, (3, 3), activation='relu'))\n",
    "model.add(layers.MaxPooling2D((2, 2)))\n",
    "model.add(layers.Conv2D(64, (3, 3), activation='relu'))\n",
    "model.add(layers.Flatten())\n",
    "model.add(layers.Dense(64, activation='relu'))\n",
    "model.add(layers.Dense(1, activation='sigmoid'))\n",
    "# model.add(layers.Dense(2, activation='softmax'))\n",
    "# model.add(layers.SoftMax())\n",
    "model.summary()"
   ]
  },
  {
   "cell_type": "markdown",
   "id": "82a58360-e65f-410b-82b7-6e104887ce0a",
   "metadata": {},
   "source": [
    "### Compile and Train Model"
   ]
  },
  {
   "cell_type": "code",
   "execution_count": 21,
   "id": "4ea525ec-9b3c-4817-bc05-6279cd1d701d",
   "metadata": {
    "tags": []
   },
   "outputs": [
    {
     "name": "stdout",
     "output_type": "stream",
     "text": [
      "Epoch 1/20\n",
      "8/8 [==============================] - 1252s 162s/step - loss: 0.6925 - accuracy: 0.5437 - val_loss: 0.6931 - val_accuracy: 0.4950\n",
      "Epoch 2/20\n",
      "8/8 [==============================] - 1123s 144s/step - loss: 0.6923 - accuracy: 0.5437 - val_loss: 0.6930 - val_accuracy: 0.5050\n",
      "Epoch 3/20\n",
      "8/8 [==============================] - 1118s 144s/step - loss: 0.6922 - accuracy: 0.5437 - val_loss: 0.6929 - val_accuracy: 0.4900\n",
      "Epoch 4/20\n",
      "8/8 [==============================] - 1118s 144s/step - loss: 0.6920 - accuracy: 0.5450 - val_loss: 0.6928 - val_accuracy: 0.5150\n",
      "Epoch 5/20\n",
      "8/8 [==============================] - 1116s 144s/step - loss: 0.6919 - accuracy: 0.5450 - val_loss: 0.6928 - val_accuracy: 0.5100\n",
      "Epoch 6/20\n",
      "8/8 [==============================] - 1116s 144s/step - loss: 0.6918 - accuracy: 0.5175 - val_loss: 0.6927 - val_accuracy: 0.5100\n",
      "Epoch 7/20\n",
      "8/8 [==============================] - 1114s 143s/step - loss: 0.6918 - accuracy: 0.5188 - val_loss: 0.6927 - val_accuracy: 0.5050\n",
      "Epoch 8/20\n",
      "8/8 [==============================] - 1115s 143s/step - loss: 0.6916 - accuracy: 0.5175 - val_loss: 0.6927 - val_accuracy: 0.5050\n",
      "Epoch 9/20\n",
      "8/8 [==============================] - 1114s 143s/step - loss: 0.6916 - accuracy: 0.5150 - val_loss: 0.6927 - val_accuracy: 0.5050\n",
      "Epoch 10/20\n",
      "8/8 [==============================] - 1114s 143s/step - loss: 0.6916 - accuracy: 0.5200 - val_loss: 0.6926 - val_accuracy: 0.5050\n",
      "Epoch 11/20\n",
      "8/8 [==============================] - ETA: 0s - loss: 0.6915 - accuracy: 0.5163  "
     ]
    },
    {
     "ename": "ResourceExhaustedError",
     "evalue": "2 root error(s) found.\n  (0) Resource exhausted:  MemoryError: Unable to allocate 7.17 MiB for an array with shape (1000, 940) and data type float64\nTraceback (most recent call last):\n\n  File \"E:\\Programs\\anaconda3\\envs\\tf-gpu\\lib\\site-packages\\tensorflow\\python\\ops\\script_ops.py\", line 249, in __call__\n    ret = func(*args)\n\n  File \"E:\\Programs\\anaconda3\\envs\\tf-gpu\\lib\\site-packages\\tensorflow\\python\\autograph\\impl\\api.py\", line 645, in wrapper\n    return func(*args, **kwargs)\n\n  File \"E:\\Programs\\anaconda3\\envs\\tf-gpu\\lib\\site-packages\\tensorflow\\python\\data\\ops\\dataset_ops.py\", line 961, in generator_py_func\n    values = next(generator_state.get_iterator(iterator_id))\n\n  File \"E:\\Programs\\anaconda3\\envs\\tf-gpu\\lib\\site-packages\\tensorflow\\python\\keras\\engine\\data_adapter.py\", line 837, in wrapped_generator\n    for data in generator_fn():\n\n  File \"E:\\Programs\\anaconda3\\envs\\tf-gpu\\lib\\site-packages\\tensorflow\\python\\keras\\engine\\data_adapter.py\", line 963, in generator_fn\n    yield x[i]\n\n  File \"C:\\Users\\antwo\\AppData\\Local\\Temp/ipykernel_3944/3649004135.py\", line 55, in __getitem__\n    X = MakeSpectrograms(X_raw, size=self.resize_shape, normalize=self.apply_norm)\n\n  File \"C:\\Users\\antwo\\AppData\\Local\\Temp/ipykernel_3944/3922272011.py\", line 21, in MakeSpectrograms\n    temp = np.stack((qt0.value.tolist(), qt1.value.tolist(), qt2.value.tolist()), axis=-1)\n\n  File \"<__array_function__ internals>\", line 5, in stack\n\n  File \"E:\\Programs\\anaconda3\\envs\\tf-gpu\\lib\\site-packages\\numpy\\core\\shape_base.py\", line 421, in stack\n    arrays = [asanyarray(arr) for arr in arrays]\n\n  File \"E:\\Programs\\anaconda3\\envs\\tf-gpu\\lib\\site-packages\\numpy\\core\\shape_base.py\", line 421, in <listcomp>\n    arrays = [asanyarray(arr) for arr in arrays]\n\n  File \"E:\\Programs\\anaconda3\\envs\\tf-gpu\\lib\\site-packages\\numpy\\core\\_asarray.py\", line 171, in asanyarray\n    return array(a, dtype, copy=False, order=order, subok=True)\n\nnumpy.core._exceptions._ArrayMemoryError: Unable to allocate 7.17 MiB for an array with shape (1000, 940) and data type float64\n\n\n\t [[{{node PyFunc}}]]\n\t [[IteratorGetNext]]\nHint: If you want to see a list of allocated tensors when OOM happens, add report_tensor_allocations_upon_oom to RunOptions for current allocation info.\n\n\t [[IteratorGetNext/_4]]\nHint: If you want to see a list of allocated tensors when OOM happens, add report_tensor_allocations_upon_oom to RunOptions for current allocation info.\n\n  (1) Resource exhausted:  MemoryError: Unable to allocate 7.17 MiB for an array with shape (1000, 940) and data type float64\nTraceback (most recent call last):\n\n  File \"E:\\Programs\\anaconda3\\envs\\tf-gpu\\lib\\site-packages\\tensorflow\\python\\ops\\script_ops.py\", line 249, in __call__\n    ret = func(*args)\n\n  File \"E:\\Programs\\anaconda3\\envs\\tf-gpu\\lib\\site-packages\\tensorflow\\python\\autograph\\impl\\api.py\", line 645, in wrapper\n    return func(*args, **kwargs)\n\n  File \"E:\\Programs\\anaconda3\\envs\\tf-gpu\\lib\\site-packages\\tensorflow\\python\\data\\ops\\dataset_ops.py\", line 961, in generator_py_func\n    values = next(generator_state.get_iterator(iterator_id))\n\n  File \"E:\\Programs\\anaconda3\\envs\\tf-gpu\\lib\\site-packages\\tensorflow\\python\\keras\\engine\\data_adapter.py\", line 837, in wrapped_generator\n    for data in generator_fn():\n\n  File \"E:\\Programs\\anaconda3\\envs\\tf-gpu\\lib\\site-packages\\tensorflow\\python\\keras\\engine\\data_adapter.py\", line 963, in generator_fn\n    yield x[i]\n\n  File \"C:\\Users\\antwo\\AppData\\Local\\Temp/ipykernel_3944/3649004135.py\", line 55, in __getitem__\n    X = MakeSpectrograms(X_raw, size=self.resize_shape, normalize=self.apply_norm)\n\n  File \"C:\\Users\\antwo\\AppData\\Local\\Temp/ipykernel_3944/3922272011.py\", line 21, in MakeSpectrograms\n    temp = np.stack((qt0.value.tolist(), qt1.value.tolist(), qt2.value.tolist()), axis=-1)\n\n  File \"<__array_function__ internals>\", line 5, in stack\n\n  File \"E:\\Programs\\anaconda3\\envs\\tf-gpu\\lib\\site-packages\\numpy\\core\\shape_base.py\", line 421, in stack\n    arrays = [asanyarray(arr) for arr in arrays]\n\n  File \"E:\\Programs\\anaconda3\\envs\\tf-gpu\\lib\\site-packages\\numpy\\core\\shape_base.py\", line 421, in <listcomp>\n    arrays = [asanyarray(arr) for arr in arrays]\n\n  File \"E:\\Programs\\anaconda3\\envs\\tf-gpu\\lib\\site-packages\\numpy\\core\\_asarray.py\", line 171, in asanyarray\n    return array(a, dtype, copy=False, order=order, subok=True)\n\nnumpy.core._exceptions._ArrayMemoryError: Unable to allocate 7.17 MiB for an array with shape (1000, 940) and data type float64\n\n\n\t [[{{node PyFunc}}]]\n\t [[IteratorGetNext]]\nHint: If you want to see a list of allocated tensors when OOM happens, add report_tensor_allocations_upon_oom to RunOptions for current allocation info.\n\n0 successful operations.\n0 derived errors ignored. [Op:__inference_test_function_7781768]\n\nFunction call stack:\ntest_function -> test_function\n",
     "output_type": "error",
     "traceback": [
      "\u001b[1;31m---------------------------------------------------------------------------\u001b[0m",
      "\u001b[1;31mResourceExhaustedError\u001b[0m                    Traceback (most recent call last)",
      "\u001b[1;32m~\\AppData\\Local\\Temp/ipykernel_3944/2553368952.py\u001b[0m in \u001b[0;36m<module>\u001b[1;34m\u001b[0m\n\u001b[0;32m      5\u001b[0m               metrics=['accuracy'])\n\u001b[0;32m      6\u001b[0m \u001b[1;33m\u001b[0m\u001b[0m\n\u001b[1;32m----> 7\u001b[1;33m history = model.fit(train_gen, validation_data=val_gen,\n\u001b[0m\u001b[0;32m      8\u001b[0m                      epochs=20)\n",
      "\u001b[1;32mE:\\Programs\\anaconda3\\envs\\tf-gpu\\lib\\site-packages\\tensorflow\\python\\keras\\engine\\training.py\u001b[0m in \u001b[0;36mfit\u001b[1;34m(self, x, y, batch_size, epochs, verbose, callbacks, validation_split, validation_data, shuffle, class_weight, sample_weight, initial_epoch, steps_per_epoch, validation_steps, validation_batch_size, validation_freq, max_queue_size, workers, use_multiprocessing)\u001b[0m\n\u001b[0;32m   1212\u001b[0m                 \u001b[0mmodel\u001b[0m\u001b[1;33m=\u001b[0m\u001b[0mself\u001b[0m\u001b[1;33m,\u001b[0m\u001b[1;33m\u001b[0m\u001b[1;33m\u001b[0m\u001b[0m\n\u001b[0;32m   1213\u001b[0m                 steps_per_execution=self._steps_per_execution)\n\u001b[1;32m-> 1214\u001b[1;33m           val_logs = self.evaluate(\n\u001b[0m\u001b[0;32m   1215\u001b[0m               \u001b[0mx\u001b[0m\u001b[1;33m=\u001b[0m\u001b[0mval_x\u001b[0m\u001b[1;33m,\u001b[0m\u001b[1;33m\u001b[0m\u001b[1;33m\u001b[0m\u001b[0m\n\u001b[0;32m   1216\u001b[0m               \u001b[0my\u001b[0m\u001b[1;33m=\u001b[0m\u001b[0mval_y\u001b[0m\u001b[1;33m,\u001b[0m\u001b[1;33m\u001b[0m\u001b[1;33m\u001b[0m\u001b[0m\n",
      "\u001b[1;32mE:\\Programs\\anaconda3\\envs\\tf-gpu\\lib\\site-packages\\tensorflow\\python\\keras\\engine\\training.py\u001b[0m in \u001b[0;36mevaluate\u001b[1;34m(self, x, y, batch_size, verbose, sample_weight, steps, callbacks, max_queue_size, workers, use_multiprocessing, return_dict, **kwargs)\u001b[0m\n\u001b[0;32m   1487\u001b[0m             \u001b[1;32mwith\u001b[0m \u001b[0mtrace\u001b[0m\u001b[1;33m.\u001b[0m\u001b[0mTrace\u001b[0m\u001b[1;33m(\u001b[0m\u001b[1;34m'test'\u001b[0m\u001b[1;33m,\u001b[0m \u001b[0mstep_num\u001b[0m\u001b[1;33m=\u001b[0m\u001b[0mstep\u001b[0m\u001b[1;33m,\u001b[0m \u001b[0m_r\u001b[0m\u001b[1;33m=\u001b[0m\u001b[1;36m1\u001b[0m\u001b[1;33m)\u001b[0m\u001b[1;33m:\u001b[0m\u001b[1;33m\u001b[0m\u001b[1;33m\u001b[0m\u001b[0m\n\u001b[0;32m   1488\u001b[0m               \u001b[0mcallbacks\u001b[0m\u001b[1;33m.\u001b[0m\u001b[0mon_test_batch_begin\u001b[0m\u001b[1;33m(\u001b[0m\u001b[0mstep\u001b[0m\u001b[1;33m)\u001b[0m\u001b[1;33m\u001b[0m\u001b[1;33m\u001b[0m\u001b[0m\n\u001b[1;32m-> 1489\u001b[1;33m               \u001b[0mtmp_logs\u001b[0m \u001b[1;33m=\u001b[0m \u001b[0mself\u001b[0m\u001b[1;33m.\u001b[0m\u001b[0mtest_function\u001b[0m\u001b[1;33m(\u001b[0m\u001b[0miterator\u001b[0m\u001b[1;33m)\u001b[0m\u001b[1;33m\u001b[0m\u001b[1;33m\u001b[0m\u001b[0m\n\u001b[0m\u001b[0;32m   1490\u001b[0m               \u001b[1;32mif\u001b[0m \u001b[0mdata_handler\u001b[0m\u001b[1;33m.\u001b[0m\u001b[0mshould_sync\u001b[0m\u001b[1;33m:\u001b[0m\u001b[1;33m\u001b[0m\u001b[1;33m\u001b[0m\u001b[0m\n\u001b[0;32m   1491\u001b[0m                 \u001b[0mcontext\u001b[0m\u001b[1;33m.\u001b[0m\u001b[0masync_wait\u001b[0m\u001b[1;33m(\u001b[0m\u001b[1;33m)\u001b[0m\u001b[1;33m\u001b[0m\u001b[1;33m\u001b[0m\u001b[0m\n",
      "\u001b[1;32mE:\\Programs\\anaconda3\\envs\\tf-gpu\\lib\\site-packages\\tensorflow\\python\\eager\\def_function.py\u001b[0m in \u001b[0;36m__call__\u001b[1;34m(self, *args, **kwds)\u001b[0m\n\u001b[0;32m    887\u001b[0m \u001b[1;33m\u001b[0m\u001b[0m\n\u001b[0;32m    888\u001b[0m       \u001b[1;32mwith\u001b[0m \u001b[0mOptionalXlaContext\u001b[0m\u001b[1;33m(\u001b[0m\u001b[0mself\u001b[0m\u001b[1;33m.\u001b[0m\u001b[0m_jit_compile\u001b[0m\u001b[1;33m)\u001b[0m\u001b[1;33m:\u001b[0m\u001b[1;33m\u001b[0m\u001b[1;33m\u001b[0m\u001b[0m\n\u001b[1;32m--> 889\u001b[1;33m         \u001b[0mresult\u001b[0m \u001b[1;33m=\u001b[0m \u001b[0mself\u001b[0m\u001b[1;33m.\u001b[0m\u001b[0m_call\u001b[0m\u001b[1;33m(\u001b[0m\u001b[1;33m*\u001b[0m\u001b[0margs\u001b[0m\u001b[1;33m,\u001b[0m \u001b[1;33m**\u001b[0m\u001b[0mkwds\u001b[0m\u001b[1;33m)\u001b[0m\u001b[1;33m\u001b[0m\u001b[1;33m\u001b[0m\u001b[0m\n\u001b[0m\u001b[0;32m    890\u001b[0m \u001b[1;33m\u001b[0m\u001b[0m\n\u001b[0;32m    891\u001b[0m       \u001b[0mnew_tracing_count\u001b[0m \u001b[1;33m=\u001b[0m \u001b[0mself\u001b[0m\u001b[1;33m.\u001b[0m\u001b[0mexperimental_get_tracing_count\u001b[0m\u001b[1;33m(\u001b[0m\u001b[1;33m)\u001b[0m\u001b[1;33m\u001b[0m\u001b[1;33m\u001b[0m\u001b[0m\n",
      "\u001b[1;32mE:\\Programs\\anaconda3\\envs\\tf-gpu\\lib\\site-packages\\tensorflow\\python\\eager\\def_function.py\u001b[0m in \u001b[0;36m_call\u001b[1;34m(self, *args, **kwds)\u001b[0m\n\u001b[0;32m    922\u001b[0m       \u001b[1;31m# In this case we have not created variables on the first call. So we can\u001b[0m\u001b[1;33m\u001b[0m\u001b[1;33m\u001b[0m\u001b[1;33m\u001b[0m\u001b[0m\n\u001b[0;32m    923\u001b[0m       \u001b[1;31m# run the first trace but we should fail if variables are created.\u001b[0m\u001b[1;33m\u001b[0m\u001b[1;33m\u001b[0m\u001b[1;33m\u001b[0m\u001b[0m\n\u001b[1;32m--> 924\u001b[1;33m       \u001b[0mresults\u001b[0m \u001b[1;33m=\u001b[0m \u001b[0mself\u001b[0m\u001b[1;33m.\u001b[0m\u001b[0m_stateful_fn\u001b[0m\u001b[1;33m(\u001b[0m\u001b[1;33m*\u001b[0m\u001b[0margs\u001b[0m\u001b[1;33m,\u001b[0m \u001b[1;33m**\u001b[0m\u001b[0mkwds\u001b[0m\u001b[1;33m)\u001b[0m\u001b[1;33m\u001b[0m\u001b[1;33m\u001b[0m\u001b[0m\n\u001b[0m\u001b[0;32m    925\u001b[0m       \u001b[1;32mif\u001b[0m \u001b[0mself\u001b[0m\u001b[1;33m.\u001b[0m\u001b[0m_created_variables\u001b[0m\u001b[1;33m:\u001b[0m\u001b[1;33m\u001b[0m\u001b[1;33m\u001b[0m\u001b[0m\n\u001b[0;32m    926\u001b[0m         raise ValueError(\"Creating variables on a non-first call to a function\"\n",
      "\u001b[1;32mE:\\Programs\\anaconda3\\envs\\tf-gpu\\lib\\site-packages\\tensorflow\\python\\eager\\function.py\u001b[0m in \u001b[0;36m__call__\u001b[1;34m(self, *args, **kwargs)\u001b[0m\n\u001b[0;32m   3021\u001b[0m       (graph_function,\n\u001b[0;32m   3022\u001b[0m        filtered_flat_args) = self._maybe_define_function(args, kwargs)\n\u001b[1;32m-> 3023\u001b[1;33m     return graph_function._call_flat(\n\u001b[0m\u001b[0;32m   3024\u001b[0m         filtered_flat_args, captured_inputs=graph_function.captured_inputs)  # pylint: disable=protected-access\n\u001b[0;32m   3025\u001b[0m \u001b[1;33m\u001b[0m\u001b[0m\n",
      "\u001b[1;32mE:\\Programs\\anaconda3\\envs\\tf-gpu\\lib\\site-packages\\tensorflow\\python\\eager\\function.py\u001b[0m in \u001b[0;36m_call_flat\u001b[1;34m(self, args, captured_inputs, cancellation_manager)\u001b[0m\n\u001b[0;32m   1958\u001b[0m         and executing_eagerly):\n\u001b[0;32m   1959\u001b[0m       \u001b[1;31m# No tape is watching; skip to running the function.\u001b[0m\u001b[1;33m\u001b[0m\u001b[1;33m\u001b[0m\u001b[1;33m\u001b[0m\u001b[0m\n\u001b[1;32m-> 1960\u001b[1;33m       return self._build_call_outputs(self._inference_function.call(\n\u001b[0m\u001b[0;32m   1961\u001b[0m           ctx, args, cancellation_manager=cancellation_manager))\n\u001b[0;32m   1962\u001b[0m     forward_backward = self._select_forward_and_backward_functions(\n",
      "\u001b[1;32mE:\\Programs\\anaconda3\\envs\\tf-gpu\\lib\\site-packages\\tensorflow\\python\\eager\\function.py\u001b[0m in \u001b[0;36mcall\u001b[1;34m(self, ctx, args, cancellation_manager)\u001b[0m\n\u001b[0;32m    589\u001b[0m       \u001b[1;32mwith\u001b[0m \u001b[0m_InterpolateFunctionError\u001b[0m\u001b[1;33m(\u001b[0m\u001b[0mself\u001b[0m\u001b[1;33m)\u001b[0m\u001b[1;33m:\u001b[0m\u001b[1;33m\u001b[0m\u001b[1;33m\u001b[0m\u001b[0m\n\u001b[0;32m    590\u001b[0m         \u001b[1;32mif\u001b[0m \u001b[0mcancellation_manager\u001b[0m \u001b[1;32mis\u001b[0m \u001b[1;32mNone\u001b[0m\u001b[1;33m:\u001b[0m\u001b[1;33m\u001b[0m\u001b[1;33m\u001b[0m\u001b[0m\n\u001b[1;32m--> 591\u001b[1;33m           outputs = execute.execute(\n\u001b[0m\u001b[0;32m    592\u001b[0m               \u001b[0mstr\u001b[0m\u001b[1;33m(\u001b[0m\u001b[0mself\u001b[0m\u001b[1;33m.\u001b[0m\u001b[0msignature\u001b[0m\u001b[1;33m.\u001b[0m\u001b[0mname\u001b[0m\u001b[1;33m)\u001b[0m\u001b[1;33m,\u001b[0m\u001b[1;33m\u001b[0m\u001b[1;33m\u001b[0m\u001b[0m\n\u001b[0;32m    593\u001b[0m               \u001b[0mnum_outputs\u001b[0m\u001b[1;33m=\u001b[0m\u001b[0mself\u001b[0m\u001b[1;33m.\u001b[0m\u001b[0m_num_outputs\u001b[0m\u001b[1;33m,\u001b[0m\u001b[1;33m\u001b[0m\u001b[1;33m\u001b[0m\u001b[0m\n",
      "\u001b[1;32mE:\\Programs\\anaconda3\\envs\\tf-gpu\\lib\\site-packages\\tensorflow\\python\\eager\\execute.py\u001b[0m in \u001b[0;36mquick_execute\u001b[1;34m(op_name, num_outputs, inputs, attrs, ctx, name)\u001b[0m\n\u001b[0;32m     57\u001b[0m   \u001b[1;32mtry\u001b[0m\u001b[1;33m:\u001b[0m\u001b[1;33m\u001b[0m\u001b[1;33m\u001b[0m\u001b[0m\n\u001b[0;32m     58\u001b[0m     \u001b[0mctx\u001b[0m\u001b[1;33m.\u001b[0m\u001b[0mensure_initialized\u001b[0m\u001b[1;33m(\u001b[0m\u001b[1;33m)\u001b[0m\u001b[1;33m\u001b[0m\u001b[1;33m\u001b[0m\u001b[0m\n\u001b[1;32m---> 59\u001b[1;33m     tensors = pywrap_tfe.TFE_Py_Execute(ctx._handle, device_name, op_name,\n\u001b[0m\u001b[0;32m     60\u001b[0m                                         inputs, attrs, num_outputs)\n\u001b[0;32m     61\u001b[0m   \u001b[1;32mexcept\u001b[0m \u001b[0mcore\u001b[0m\u001b[1;33m.\u001b[0m\u001b[0m_NotOkStatusException\u001b[0m \u001b[1;32mas\u001b[0m \u001b[0me\u001b[0m\u001b[1;33m:\u001b[0m\u001b[1;33m\u001b[0m\u001b[1;33m\u001b[0m\u001b[0m\n",
      "\u001b[1;31mResourceExhaustedError\u001b[0m: 2 root error(s) found.\n  (0) Resource exhausted:  MemoryError: Unable to allocate 7.17 MiB for an array with shape (1000, 940) and data type float64\nTraceback (most recent call last):\n\n  File \"E:\\Programs\\anaconda3\\envs\\tf-gpu\\lib\\site-packages\\tensorflow\\python\\ops\\script_ops.py\", line 249, in __call__\n    ret = func(*args)\n\n  File \"E:\\Programs\\anaconda3\\envs\\tf-gpu\\lib\\site-packages\\tensorflow\\python\\autograph\\impl\\api.py\", line 645, in wrapper\n    return func(*args, **kwargs)\n\n  File \"E:\\Programs\\anaconda3\\envs\\tf-gpu\\lib\\site-packages\\tensorflow\\python\\data\\ops\\dataset_ops.py\", line 961, in generator_py_func\n    values = next(generator_state.get_iterator(iterator_id))\n\n  File \"E:\\Programs\\anaconda3\\envs\\tf-gpu\\lib\\site-packages\\tensorflow\\python\\keras\\engine\\data_adapter.py\", line 837, in wrapped_generator\n    for data in generator_fn():\n\n  File \"E:\\Programs\\anaconda3\\envs\\tf-gpu\\lib\\site-packages\\tensorflow\\python\\keras\\engine\\data_adapter.py\", line 963, in generator_fn\n    yield x[i]\n\n  File \"C:\\Users\\antwo\\AppData\\Local\\Temp/ipykernel_3944/3649004135.py\", line 55, in __getitem__\n    X = MakeSpectrograms(X_raw, size=self.resize_shape, normalize=self.apply_norm)\n\n  File \"C:\\Users\\antwo\\AppData\\Local\\Temp/ipykernel_3944/3922272011.py\", line 21, in MakeSpectrograms\n    temp = np.stack((qt0.value.tolist(), qt1.value.tolist(), qt2.value.tolist()), axis=-1)\n\n  File \"<__array_function__ internals>\", line 5, in stack\n\n  File \"E:\\Programs\\anaconda3\\envs\\tf-gpu\\lib\\site-packages\\numpy\\core\\shape_base.py\", line 421, in stack\n    arrays = [asanyarray(arr) for arr in arrays]\n\n  File \"E:\\Programs\\anaconda3\\envs\\tf-gpu\\lib\\site-packages\\numpy\\core\\shape_base.py\", line 421, in <listcomp>\n    arrays = [asanyarray(arr) for arr in arrays]\n\n  File \"E:\\Programs\\anaconda3\\envs\\tf-gpu\\lib\\site-packages\\numpy\\core\\_asarray.py\", line 171, in asanyarray\n    return array(a, dtype, copy=False, order=order, subok=True)\n\nnumpy.core._exceptions._ArrayMemoryError: Unable to allocate 7.17 MiB for an array with shape (1000, 940) and data type float64\n\n\n\t [[{{node PyFunc}}]]\n\t [[IteratorGetNext]]\nHint: If you want to see a list of allocated tensors when OOM happens, add report_tensor_allocations_upon_oom to RunOptions for current allocation info.\n\n\t [[IteratorGetNext/_4]]\nHint: If you want to see a list of allocated tensors when OOM happens, add report_tensor_allocations_upon_oom to RunOptions for current allocation info.\n\n  (1) Resource exhausted:  MemoryError: Unable to allocate 7.17 MiB for an array with shape (1000, 940) and data type float64\nTraceback (most recent call last):\n\n  File \"E:\\Programs\\anaconda3\\envs\\tf-gpu\\lib\\site-packages\\tensorflow\\python\\ops\\script_ops.py\", line 249, in __call__\n    ret = func(*args)\n\n  File \"E:\\Programs\\anaconda3\\envs\\tf-gpu\\lib\\site-packages\\tensorflow\\python\\autograph\\impl\\api.py\", line 645, in wrapper\n    return func(*args, **kwargs)\n\n  File \"E:\\Programs\\anaconda3\\envs\\tf-gpu\\lib\\site-packages\\tensorflow\\python\\data\\ops\\dataset_ops.py\", line 961, in generator_py_func\n    values = next(generator_state.get_iterator(iterator_id))\n\n  File \"E:\\Programs\\anaconda3\\envs\\tf-gpu\\lib\\site-packages\\tensorflow\\python\\keras\\engine\\data_adapter.py\", line 837, in wrapped_generator\n    for data in generator_fn():\n\n  File \"E:\\Programs\\anaconda3\\envs\\tf-gpu\\lib\\site-packages\\tensorflow\\python\\keras\\engine\\data_adapter.py\", line 963, in generator_fn\n    yield x[i]\n\n  File \"C:\\Users\\antwo\\AppData\\Local\\Temp/ipykernel_3944/3649004135.py\", line 55, in __getitem__\n    X = MakeSpectrograms(X_raw, size=self.resize_shape, normalize=self.apply_norm)\n\n  File \"C:\\Users\\antwo\\AppData\\Local\\Temp/ipykernel_3944/3922272011.py\", line 21, in MakeSpectrograms\n    temp = np.stack((qt0.value.tolist(), qt1.value.tolist(), qt2.value.tolist()), axis=-1)\n\n  File \"<__array_function__ internals>\", line 5, in stack\n\n  File \"E:\\Programs\\anaconda3\\envs\\tf-gpu\\lib\\site-packages\\numpy\\core\\shape_base.py\", line 421, in stack\n    arrays = [asanyarray(arr) for arr in arrays]\n\n  File \"E:\\Programs\\anaconda3\\envs\\tf-gpu\\lib\\site-packages\\numpy\\core\\shape_base.py\", line 421, in <listcomp>\n    arrays = [asanyarray(arr) for arr in arrays]\n\n  File \"E:\\Programs\\anaconda3\\envs\\tf-gpu\\lib\\site-packages\\numpy\\core\\_asarray.py\", line 171, in asanyarray\n    return array(a, dtype, copy=False, order=order, subok=True)\n\nnumpy.core._exceptions._ArrayMemoryError: Unable to allocate 7.17 MiB for an array with shape (1000, 940) and data type float64\n\n\n\t [[{{node PyFunc}}]]\n\t [[IteratorGetNext]]\nHint: If you want to see a list of allocated tensors when OOM happens, add report_tensor_allocations_upon_oom to RunOptions for current allocation info.\n\n0 successful operations.\n0 derived errors ignored. [Op:__inference_test_function_7781768]\n\nFunction call stack:\ntest_function -> test_function\n"
     ]
    }
   ],
   "source": [
    "model.compile(optimizer='sgd',#'adam',\n",
    "#               loss=tf.keras.losses.SparseCategoricalCrossentropy(from_logits=True),\n",
    "              loss='binary_crossentropy',\n",
    "#               loss=tf.keras.losses.CategoricalCrossentropy(),\n",
    "              metrics=['accuracy'])\n",
    "\n",
    "history = model.fit(train_gen, validation_data=val_gen,\n",
    "                     epochs=20)"
   ]
  },
  {
   "cell_type": "code",
   "execution_count": null,
   "id": "14d3692f-13f3-4fcc-894e-dad97e1fa23b",
   "metadata": {},
   "outputs": [],
   "source": [
    "model.save('trained_5000')"
   ]
  },
  {
   "cell_type": "markdown",
   "id": "923d7d38-27cf-4416-be3f-42c16eea4ace",
   "metadata": {},
   "source": [
    "### Evaluate Model"
   ]
  },
  {
   "cell_type": "code",
   "execution_count": 18,
   "id": "e6be992b-fda2-444b-b903-ae1535f9d23f",
   "metadata": {},
   "outputs": [
    {
     "name": "stdout",
     "output_type": "stream",
     "text": [
      "2/2 [==============================] - 229s 113s/step - loss: 0.6921 - accuracy: 0.5700\n",
      "0.5699999928474426\n"
     ]
    },
    {
     "data": {
      "image/png": "[encoded data removed]",
      "text/plain": [
       "<Figure size 432x288 with 1 Axes>"
      ]
     },
     "metadata": {
      "needs_background": "light"
     },
     "output_type": "display_data"
    }
   ],
   "source": [
    "plt.plot(history.history['accuracy'], label='accuracy')\n",
    "plt.plot(history.history['val_accuracy'], label = 'val_accuracy')\n",
    "plt.xlabel('Epoch')\n",
    "plt.ylabel('Accuracy')\n",
    "plt.ylim([0.1, 1])\n",
    "plt.legend(loc='lower right')\n",
    "\n",
    "test_loss, test_acc = model.evaluate(val_gen, verbose=1)\n",
    "\n",
    "print(test_acc)"
   ]
  },
  {
   "cell_type": "code",
   "execution_count": 19,
   "id": "9b81b65b-e2f7-427e-ba7a-849e2fe8c2c3",
   "metadata": {},
   "outputs": [
    {
     "data": {
      "image/png": "[encoded data removed]",
      "text/plain": [
       "<Figure size 576x360 with 1 Axes>"
      ]
     },
     "metadata": {
      "needs_background": "light"
     },
     "output_type": "display_data"
    }
   ],
   "source": [
    "pd.DataFrame(history.history).plot(figsize=(8, 5))\n",
    "plt.grid(True)\n",
    "plt.gca().set_ylim(0, 1)\n",
    "# save_fig(\\\"keras_learning_curves_plot\\\")\n",
    "plt.show()"
   ]
  },
  {
   "cell_type": "code",
   "execution_count": null,
   "id": "c1629895-1040-468f-be6f-69bf919d7feb",
   "metadata": {},
   "outputs": [],
   "source": []
  }
 ],
 "metadata": {
  "kernelspec": {
   "display_name": "Python [conda env:tf-gpu]",
   "language": "python",
   "name": "conda-env-tf-gpu-py"
  },
  "language_info": {
   "codemirror_mode": {
    "name": "ipython",
    "version": 3
   },
   "file_extension": ".py",
   "mimetype": "text/x-python",
   "name": "python",
   "nbconvert_exporter": "python",
   "pygments_lexer": "ipython3",
   "version": "3.9.6"
  }
 },
 "nbformat": 4,
 "nbformat_minor": 5
}
